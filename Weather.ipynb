{
 "cells": [
  {
   "cell_type": "markdown",
   "source": [
    "# **_Demand Forecasting Methods_**"
   ],
   "metadata": {
    "collapsed": false
   }
  },
  {
   "cell_type": "markdown",
   "source": [
    "<br>\n",
    "\n",
    "### __*Import Libraries*__"
   ],
   "metadata": {
    "collapsed": false
   }
  },
  {
   "cell_type": "code",
   "execution_count": 319,
   "outputs": [],
   "source": [
    "# Data libraries\n",
    "import datetime\n",
    "import pandas as pd\n",
    "import matplotlib.pyplot as plt\n",
    "\n",
    "# Model libraries\n",
    "import torch\n",
    "from torch import nn, optim\n",
    "from sklearn.model_selection import train_test_split\n",
    "\n",
    "# Device config\n",
    "device = torch.device('cuda')"
   ],
   "metadata": {
    "collapsed": false
   }
  },
  {
   "cell_type": "markdown",
   "source": [
    "<br>\n",
    "\n",
    "### __*Load Data*__"
   ],
   "metadata": {
    "collapsed": false
   }
  },
  {
   "cell_type": "code",
   "execution_count": 320,
   "outputs": [],
   "source": [
    "# eurosd = pd.ExcelFile('data/eurosd_10y.xlsx') 10.1.2013 - 30.11.2022\n",
    "raw_weather = pd.read_csv('data/seattle-weather.csv')"
   ],
   "metadata": {
    "collapsed": false
   }
  },
  {
   "cell_type": "code",
   "execution_count": 321,
   "outputs": [
    {
     "data": {
      "text/plain": "            date  precipitation  temp_max  temp_min  wind  weather\n0     2012-01-01            0.0      12.8       5.0   4.7  drizzle\n300   2012-10-27           23.1      14.4       9.4   5.1     rain\n600   2013-08-23            0.0      25.0      16.1   4.1      sun\n900   2014-06-19            0.8      25.6      11.7   3.7     rain\n1200  2015-04-15            0.0      13.9       3.3   2.4      sun",
      "text/html": "<div>\n<style scoped>\n    .dataframe tbody tr th:only-of-type {\n        vertical-align: middle;\n    }\n\n    .dataframe tbody tr th {\n        vertical-align: top;\n    }\n\n    .dataframe thead th {\n        text-align: right;\n    }\n</style>\n<table border=\"1\" class=\"dataframe\">\n  <thead>\n    <tr style=\"text-align: right;\">\n      <th></th>\n      <th>date</th>\n      <th>precipitation</th>\n      <th>temp_max</th>\n      <th>temp_min</th>\n      <th>wind</th>\n      <th>weather</th>\n    </tr>\n  </thead>\n  <tbody>\n    <tr>\n      <th>0</th>\n      <td>2012-01-01</td>\n      <td>0.0</td>\n      <td>12.8</td>\n      <td>5.0</td>\n      <td>4.7</td>\n      <td>drizzle</td>\n    </tr>\n    <tr>\n      <th>300</th>\n      <td>2012-10-27</td>\n      <td>23.1</td>\n      <td>14.4</td>\n      <td>9.4</td>\n      <td>5.1</td>\n      <td>rain</td>\n    </tr>\n    <tr>\n      <th>600</th>\n      <td>2013-08-23</td>\n      <td>0.0</td>\n      <td>25.0</td>\n      <td>16.1</td>\n      <td>4.1</td>\n      <td>sun</td>\n    </tr>\n    <tr>\n      <th>900</th>\n      <td>2014-06-19</td>\n      <td>0.8</td>\n      <td>25.6</td>\n      <td>11.7</td>\n      <td>3.7</td>\n      <td>rain</td>\n    </tr>\n    <tr>\n      <th>1200</th>\n      <td>2015-04-15</td>\n      <td>0.0</td>\n      <td>13.9</td>\n      <td>3.3</td>\n      <td>2.4</td>\n      <td>sun</td>\n    </tr>\n  </tbody>\n</table>\n</div>"
     },
     "execution_count": 321,
     "metadata": {},
     "output_type": "execute_result"
    }
   ],
   "source": [
    "raw_weather[0::300]"
   ],
   "metadata": {
    "collapsed": false
   }
  },
  {
   "cell_type": "markdown",
   "source": [
    "<br>\n",
    "\n",
    "### __*Translate weather to numbers*__"
   ],
   "metadata": {
    "collapsed": false
   }
  },
  {
   "cell_type": "code",
   "execution_count": 322,
   "outputs": [],
   "source": [
    "def translator(labels):\n",
    "    outp = dict()\n",
    "    for label in labels:\n",
    "        outp[label] = len(outp)\n",
    "    return outp"
   ],
   "metadata": {
    "collapsed": false
   }
  },
  {
   "cell_type": "code",
   "execution_count": 323,
   "outputs": [],
   "source": [
    "weather_types = set(raw_weather['weather'])\n",
    "translate = translator(weather_types)"
   ],
   "metadata": {
    "collapsed": false
   }
  },
  {
   "cell_type": "code",
   "execution_count": 324,
   "outputs": [
    {
     "data": {
      "text/plain": "{'snow': 0, 'fog': 1, 'drizzle': 2, 'rain': 3, 'sun': 4}"
     },
     "execution_count": 324,
     "metadata": {},
     "output_type": "execute_result"
    }
   ],
   "source": [
    "translate"
   ],
   "metadata": {
    "collapsed": false
   }
  },
  {
   "cell_type": "code",
   "execution_count": 325,
   "outputs": [],
   "source": [
    "for name, index in translate.items():\n",
    "    raw_weather = raw_weather.replace(name, index)"
   ],
   "metadata": {
    "collapsed": false
   }
  },
  {
   "cell_type": "code",
   "execution_count": 326,
   "outputs": [
    {
     "data": {
      "text/plain": "      precipitation  temp_max  temp_min  wind  weather\n0               0.0      12.8       5.0   4.7        2\n300            23.1      14.4       9.4   5.1        3\n600             0.0      25.0      16.1   4.1        4\n900             0.8      25.6      11.7   3.7        3\n1200            0.0      13.9       3.3   2.4        4",
      "text/html": "<div>\n<style scoped>\n    .dataframe tbody tr th:only-of-type {\n        vertical-align: middle;\n    }\n\n    .dataframe tbody tr th {\n        vertical-align: top;\n    }\n\n    .dataframe thead th {\n        text-align: right;\n    }\n</style>\n<table border=\"1\" class=\"dataframe\">\n  <thead>\n    <tr style=\"text-align: right;\">\n      <th></th>\n      <th>precipitation</th>\n      <th>temp_max</th>\n      <th>temp_min</th>\n      <th>wind</th>\n      <th>weather</th>\n    </tr>\n  </thead>\n  <tbody>\n    <tr>\n      <th>0</th>\n      <td>0.0</td>\n      <td>12.8</td>\n      <td>5.0</td>\n      <td>4.7</td>\n      <td>2</td>\n    </tr>\n    <tr>\n      <th>300</th>\n      <td>23.1</td>\n      <td>14.4</td>\n      <td>9.4</td>\n      <td>5.1</td>\n      <td>3</td>\n    </tr>\n    <tr>\n      <th>600</th>\n      <td>0.0</td>\n      <td>25.0</td>\n      <td>16.1</td>\n      <td>4.1</td>\n      <td>4</td>\n    </tr>\n    <tr>\n      <th>900</th>\n      <td>0.8</td>\n      <td>25.6</td>\n      <td>11.7</td>\n      <td>3.7</td>\n      <td>3</td>\n    </tr>\n    <tr>\n      <th>1200</th>\n      <td>0.0</td>\n      <td>13.9</td>\n      <td>3.3</td>\n      <td>2.4</td>\n      <td>4</td>\n    </tr>\n  </tbody>\n</table>\n</div>"
     },
     "execution_count": 326,
     "metadata": {},
     "output_type": "execute_result"
    }
   ],
   "source": [
    "raw_weather = raw_weather.drop(columns='date')\n",
    "raw_weather[0::300]"
   ],
   "metadata": {
    "collapsed": false
   }
  },
  {
   "cell_type": "markdown",
   "source": [
    "<br>\n",
    "\n",
    "### __*Train & Test Data Split*__"
   ],
   "metadata": {
    "collapsed": false
   }
  },
  {
   "cell_type": "code",
   "execution_count": 327,
   "outputs": [],
   "source": [
    "X = raw_weather.to_numpy(dtype=float)\n",
    "y = raw_weather[raw_weather.columns[1]].to_numpy(dtype=float)\n",
    "\n",
    "# Based on last day data, what is going be the demand the next day\n",
    "X_train, X_test, y_train, y_test = train_test_split(X[:-1], y[1:], test_size=0.1, shuffle=False)\n",
    "\n",
    "X_train = torch.Tensor(X_train)\n",
    "y_train = torch.Tensor(y_train)\n",
    "\n",
    "X_test = torch.Tensor(X_test)\n",
    "y_test = torch.Tensor(y_test)"
   ],
   "metadata": {
    "collapsed": false
   }
  },
  {
   "cell_type": "code",
   "execution_count": 328,
   "outputs": [
    {
     "name": "stdout",
     "output_type": "stream",
     "text": [
      "tensor(4.7000) tensor(10.6000) 4.7 12.8\n",
      "tensor(4.5000) tensor(11.7000) 4.5 10.6\n",
      "tensor(2.3000) tensor(12.2000) 2.3 11.7\n",
      "tensor(4.7000) tensor(8.9000) 4.7 12.2\n",
      "tensor(6.1000) tensor(4.4000) 6.1 8.9\n",
      "tensor(2.2000) tensor(7.2000) 2.2 4.4\n",
      "tensor(2.3000) tensor(10.) 2.3 7.2\n",
      "tensor(2.) tensor(9.4000) 2.0 10.0\n",
      "tensor(3.4000) tensor(6.1000) 3.4 9.4\n",
      "tensor(3.4000) tensor(6.1000) 3.4 6.1\n"
     ]
    }
   ],
   "source": [
    "show = True\n",
    "if show:\n",
    "    for i in range(10):\n",
    "        print(X_train[i][3], y_train[i], raw_weather['wind'][i], raw_weather['temp_max'][i])"
   ],
   "metadata": {
    "collapsed": false
   }
  },
  {
   "cell_type": "markdown",
   "source": [
    "<br>\n",
    "\n",
    "### __*Define Linear Model*__"
   ],
   "metadata": {
    "collapsed": false
   }
  },
  {
   "cell_type": "code",
   "execution_count": 329,
   "outputs": [],
   "source": [
    "class LinearRegression(nn.Module):\n",
    "    def __init__(self, input_size, output_size):\n",
    "        super(LinearRegression, self).__init__()\n",
    "        self.fc1 = nn.Linear(input_size, 64)\n",
    "        # self.fc2 = nn.Linear(512, 256)\n",
    "        # self.fc3 = nn.Linear(256, 128)\n",
    "        # self.fc4 = nn.Linear(128, 64)\n",
    "        self.fc5 = nn.Linear(64, 32)\n",
    "        self.fc6 = nn.Linear(32, output_size)\n",
    "\n",
    "    def forward(self, xx):\n",
    "        xx = torch.relu(self.fc1(xx))\n",
    "        # xx = torch.relu(self.fc2(xx))\n",
    "        # xx = torch.relu(self.fc3(xx))\n",
    "        # xx = torch.relu(self.fc4(xx))\n",
    "        xx = torch.relu(self.fc5(xx))\n",
    "        return self.fc6(xx)"
   ],
   "metadata": {
    "collapsed": false
   }
  },
  {
   "cell_type": "markdown",
   "source": [
    "<br>\n",
    "\n",
    "### __*aaa*__"
   ],
   "metadata": {
    "collapsed": false
   }
  },
  {
   "cell_type": "code",
   "execution_count": 330,
   "outputs": [],
   "source": [
    "reg_model = LinearRegression(len(X_train[0]), 1)\n",
    "\n",
    "train_loss_lst = list()\n",
    "test_loss_lst = list()"
   ],
   "metadata": {
    "collapsed": false
   }
  },
  {
   "cell_type": "markdown",
   "source": [
    "<br>\n",
    "\n",
    "### __*aaa*__"
   ],
   "metadata": {
    "collapsed": false
   }
  },
  {
   "cell_type": "code",
   "execution_count": 331,
   "outputs": [
    {
     "name": "stderr",
     "output_type": "stream",
     "text": [
      "C:\\Users\\rposa\\anaconda3\\lib\\site-packages\\torch\\nn\\modules\\loss.py:928: UserWarning: Using a target size (torch.Size([64])) that is different to the input size (torch.Size([64, 1])). This will likely lead to incorrect results due to broadcasting. Please ensure they have the same size.\n",
      "  return F.smooth_l1_loss(input, target, reduction=self.reduction, beta=self.beta)\n",
      "C:\\Users\\rposa\\anaconda3\\lib\\site-packages\\torch\\nn\\modules\\loss.py:928: UserWarning: Using a target size (torch.Size([34])) that is different to the input size (torch.Size([34, 1])). This will likely lead to incorrect results due to broadcasting. Please ensure they have the same size.\n",
      "  return F.smooth_l1_loss(input, target, reduction=self.reduction, beta=self.beta)\n",
      "C:\\Users\\rposa\\anaconda3\\lib\\site-packages\\torch\\nn\\modules\\loss.py:928: UserWarning: Using a target size (torch.Size([146])) that is different to the input size (torch.Size([146, 1])). This will likely lead to incorrect results due to broadcasting. Please ensure they have the same size.\n",
      "  return F.smooth_l1_loss(input, target, reduction=self.reduction, beta=self.beta)\n"
     ]
    },
    {
     "name": "stdout",
     "output_type": "stream",
     "text": [
      "Epoch 1/50:\n",
      "  Train Loss: 0.2436880173\n",
      "  Test  Loss: 0.0904972325\n",
      "Epoch 2/50:\n",
      "  Train Loss: 0.2060723399\n",
      "  Test  Loss: 0.0730370822\n",
      "Epoch 3/50:\n",
      "  Train Loss: 0.1582605567\n",
      "  Test  Loss: 0.0560638807\n",
      "Epoch 4/50:\n",
      "  Train Loss: 0.1023259568\n",
      "  Test  Loss: 0.0480099182\n",
      "Epoch 5/50:\n",
      "  Train Loss: 0.0662581189\n",
      "  Test  Loss: 0.0498085251\n",
      "Epoch 6/50:\n",
      "  Train Loss: 0.0605983914\n",
      "  Test  Loss: 0.0506970393\n",
      "Epoch 7/50:\n",
      "  Train Loss: 0.0599130720\n",
      "  Test  Loss: 0.0496847728\n",
      "Epoch 8/50:\n",
      "  Train Loss: 0.0590550731\n",
      "  Test  Loss: 0.0493876379\n",
      "Epoch 9/50:\n",
      "  Train Loss: 0.0584996242\n",
      "  Test  Loss: 0.0490891999\n",
      "Epoch 10/50:\n",
      "  Train Loss: 0.0580274866\n",
      "  Test  Loss: 0.0489200174\n",
      "Epoch 11/50:\n",
      "  Train Loss: 0.0576536144\n",
      "  Test  Loss: 0.0487754770\n",
      "Epoch 12/50:\n",
      "  Train Loss: 0.0573403912\n",
      "  Test  Loss: 0.0486116703\n",
      "Epoch 13/50:\n",
      "  Train Loss: 0.0570703436\n",
      "  Test  Loss: 0.0484126692\n",
      "Epoch 14/50:\n",
      "  Train Loss: 0.0568048499\n",
      "  Test  Loss: 0.0482033116\n",
      "Epoch 15/50:\n",
      "  Train Loss: 0.0566056078\n",
      "  Test  Loss: 0.0479759419\n",
      "Epoch 16/50:\n",
      "  Train Loss: 0.0563847707\n",
      "  Test  Loss: 0.0478004789\n",
      "Epoch 17/50:\n",
      "  Train Loss: 0.0562299182\n",
      "  Test  Loss: 0.0476167692\n",
      "Epoch 18/50:\n",
      "  Train Loss: 0.0560980028\n",
      "  Test  Loss: 0.0474969394\n",
      "Epoch 19/50:\n",
      "  Train Loss: 0.0559891214\n",
      "  Test  Loss: 0.0473864993\n",
      "Epoch 20/50:\n",
      "  Train Loss: 0.0559086956\n",
      "  Test  Loss: 0.0473059595\n",
      "Epoch 21/50:\n",
      "  Train Loss: 0.0558429512\n",
      "  Test  Loss: 0.0472493727\n",
      "Epoch 22/50:\n",
      "  Train Loss: 0.0557863170\n",
      "  Test  Loss: 0.0472034526\n",
      "Epoch 23/50:\n",
      "  Train Loss: 0.0557400623\n",
      "  Test  Loss: 0.0471672489\n",
      "Epoch 24/50:\n",
      "  Train Loss: 0.0556981725\n",
      "  Test  Loss: 0.0471385146\n",
      "Epoch 25/50:\n",
      "  Train Loss: 0.0556622110\n",
      "  Test  Loss: 0.0471175337\n",
      "Epoch 26/50:\n",
      "  Train Loss: 0.0556243019\n",
      "  Test  Loss: 0.0470979573\n",
      "Epoch 27/50:\n",
      "  Train Loss: 0.0555919512\n",
      "  Test  Loss: 0.0470817024\n",
      "Epoch 28/50:\n",
      "  Train Loss: 0.0555588613\n",
      "  Test  Loss: 0.0470651633\n",
      "Epoch 29/50:\n",
      "  Train Loss: 0.0555275905\n",
      "  Test  Loss: 0.0470519392\n",
      "Epoch 30/50:\n",
      "  Train Loss: 0.0554967547\n",
      "  Test  Loss: 0.0470399040\n",
      "Epoch 31/50:\n",
      "  Train Loss: 0.0554681427\n",
      "  Test  Loss: 0.0470325784\n",
      "Epoch 32/50:\n",
      "  Train Loss: 0.0554408292\n",
      "  Test  Loss: 0.0470229796\n",
      "Epoch 33/50:\n",
      "  Train Loss: 0.0554146119\n",
      "  Test  Loss: 0.0470176919\n",
      "Epoch 34/50:\n",
      "  Train Loss: 0.0553898947\n",
      "  Test  Loss: 0.0470126361\n",
      "Epoch 35/50:\n",
      "  Train Loss: 0.0553636086\n",
      "  Test  Loss: 0.0470057220\n",
      "Epoch 36/50:\n",
      "  Train Loss: 0.0553417289\n",
      "  Test  Loss: 0.0470038701\n",
      "Epoch 37/50:\n",
      "  Train Loss: 0.0553174781\n",
      "  Test  Loss: 0.0469954667\n",
      "Epoch 38/50:\n",
      "  Train Loss: 0.0552944366\n",
      "  Test  Loss: 0.0469908812\n",
      "Epoch 39/50:\n",
      "  Train Loss: 0.0552714038\n",
      "  Test  Loss: 0.0469814523\n",
      "Epoch 40/50:\n",
      "  Train Loss: 0.0552499374\n",
      "  Test  Loss: 0.0469758249\n",
      "Epoch 41/50:\n",
      "  Train Loss: 0.0552266408\n",
      "  Test  Loss: 0.0469696456\n",
      "Epoch 42/50:\n",
      "  Train Loss: 0.0552048719\n",
      "  Test  Loss: 0.0469632769\n",
      "Epoch 43/50:\n",
      "  Train Loss: 0.0551839049\n",
      "  Test  Loss: 0.0469654358\n",
      "Epoch 44/50:\n",
      "  Train Loss: 0.0551609311\n",
      "  Test  Loss: 0.0469477797\n",
      "Epoch 45/50:\n",
      "  Train Loss: 0.0551437083\n",
      "  Test  Loss: 0.0469432008\n",
      "Epoch 46/50:\n",
      "  Train Loss: 0.0551235627\n",
      "  Test  Loss: 0.0469444157\n",
      "Epoch 47/50:\n",
      "  Train Loss: 0.0551047505\n",
      "  Test  Loss: 0.0469436874\n",
      "Epoch 48/50:\n",
      "  Train Loss: 0.0550861954\n",
      "  Test  Loss: 0.0469451375\n",
      "Epoch 49/50:\n",
      "  Train Loss: 0.0550677517\n",
      "  Test  Loss: 0.0469438279\n",
      "Epoch 50/50:\n",
      "  Train Loss: 0.0550509125\n",
      "  Test  Loss: 0.0469432106\n"
     ]
    }
   ],
   "source": [
    "num_epochs = 50\n",
    "len_train = len(X_train)\n",
    "batch = 64\n",
    "\n",
    "criterion = nn.SmoothL1Loss()                                # L1Loss\n",
    "optimizer = optim.AdamW(reg_model.parameters(), lr=4e-4)     # AdamW 0.0001\n",
    "\n",
    "for epoch in range(num_epochs):\n",
    "    total_loss = 0\n",
    "    tmp_outputs = list()\n",
    "    for delta in range(int(len_train/batch) + 1):\n",
    "        if delta == int(len_train/batch):\n",
    "            inputs = X_train[batch*delta:]\n",
    "            targets = y_train[batch*delta:]\n",
    "        else:\n",
    "            inputs = X_train[batch*delta:batch*(delta+1)]\n",
    "            targets = y_train[batch*delta:batch*(delta+1)]\n",
    "\n",
    "        # Forward pass\n",
    "        outputs = reg_model(inputs)\n",
    "        tmp_outputs.append(outputs)\n",
    "        loss = criterion(outputs, targets)\n",
    "\n",
    "        # Backward and optimize\n",
    "        optimizer.zero_grad()\n",
    "        loss.backward()\n",
    "        optimizer.step()\n",
    "\n",
    "        total_loss += loss.item()\n",
    "\n",
    "    predictions = reg_model(X_test)\n",
    "    acc = criterion(predictions, y_test)\n",
    "\n",
    "    train_loss_lst.append(total_loss/len_train)\n",
    "    test_loss_lst.append(acc.item())\n",
    "\n",
    "\n",
    "    if (epoch+1) % 1 == 0:\n",
    "        print(f'Epoch {epoch+1}/{num_epochs}:\\n'\n",
    "              f'  Train Loss: {(total_loss/len(X_train)):.10f}\\n'\n",
    "              f'  Test  Loss: {acc.item()/len(X_test):.10f}')\n",
    "\n",
    "        total_loss = 0"
   ],
   "metadata": {
    "collapsed": false
   }
  },
  {
   "cell_type": "markdown",
   "source": [
    "<br>\n",
    "\n",
    "### __*aaa*__"
   ],
   "metadata": {
    "collapsed": false
   }
  },
  {
   "cell_type": "code",
   "execution_count": 332,
   "outputs": [
    {
     "data": {
      "text/plain": "<Figure size 1500x500 with 1 Axes>",
      "image/png": "[encoded data removed]"
     },
     "metadata": {},
     "output_type": "display_data"
    }
   ],
   "source": [
    "# Graphical representation of the model accuracy\n",
    "start = 0\n",
    "end = -1\n",
    "\n",
    "predictions = reg_model(X_test)\n",
    "\n",
    "_, axs_loss = plt.subplots(nrows=1, ncols=1, figsize=[15,5])\n",
    "test_loss_lst_plot, = axs_loss.plot(predictions.detach().numpy()[start:end], label='Predicted', color='#16b8f3')\n",
    "train_loss_lst_plot, = axs_loss.plot(y_test[start:end], label='True', color='green')\n",
    "axs_loss.legend(handles=[test_loss_lst_plot, train_loss_lst_plot])\n",
    "axs_loss.grid(linestyle='--', linewidth=0.5)\n",
    "axs_loss.set_xlabel('Time')\n",
    "axs_loss.set_ylabel('Value')\n",
    "pass"
   ],
   "metadata": {
    "collapsed": false
   }
  },
  {
   "cell_type": "markdown",
   "source": [
    "<br>\n",
    "\n",
    "### __*aaa*__"
   ],
   "metadata": {
    "collapsed": false
   }
  },
  {
   "cell_type": "code",
   "execution_count": 333,
   "outputs": [
    {
     "name": "stdout",
     "output_type": "stream",
     "text": [
      "0   Real: 25.000 | Pred: 26.437 | Diff:  1.437\n",
      "1   Real: 28.300 | Pred: 23.789 | Diff:  4.511\n",
      "2   Real: 28.900 | Pred: 25.840 | Diff:  3.060\n",
      "3   Real: 30.000 | Pred: 26.822 | Diff:  3.178\n",
      "4   Real: 28.300 | Pred: 28.090 | Diff:  0.210\n",
      "5   Real: 28.300 | Pred: 27.072 | Diff:  1.228\n",
      "6   Real: 18.300 | Pred: 26.183 | Diff:  7.883\n",
      "7   Real: 21.700 | Pred: 19.464 | Diff:  2.236\n",
      "8   Real: 25.000 | Pred: 21.950 | Diff:  3.050\n",
      "9   Real: 27.200 | Pred: 23.993 | Diff:  3.207\n",
      "10  Real: 30.000 | Pred: 24.761 | Diff:  5.239\n",
      "11  Real: 31.700 | Pred: 26.881 | Diff:  4.819\n",
      "12  Real: 22.800 | Pred: 27.686 | Diff:  4.886\n",
      "13  Real: 22.200 | Pred: 22.722 | Diff:  0.522\n",
      "14  Real: 26.700 | Pred: 22.316 | Diff:  4.384\n",
      "15  Real: 27.800 | Pred: 22.861 | Diff:  4.939\n",
      "16  Real: 23.900 | Pred: 24.300 | Diff:  0.400\n",
      "17  Real: 25.600 | Pred: 21.913 | Diff:  3.687\n",
      "18  Real: 28.300 | Pred: 23.004 | Diff:  5.296\n",
      "19  Real: 29.400 | Pred: 25.130 | Diff:  4.270\n",
      "20  Real: 23.300 | Pred: 26.069 | Diff:  2.769\n",
      "21  Real: 22.200 | Pred: 23.335 | Diff:  1.135\n",
      "22  Real: 20.000 | Pred: 21.670 | Diff:  1.670\n",
      "23  Real: 18.900 | Pred: 20.523 | Diff:  1.623\n",
      "24  Real: 19.400 | Pred: 21.790 | Diff:  2.390\n",
      "25  Real: 19.400 | Pred: 20.617 | Diff:  1.217\n",
      "26  Real: 18.300 | Pred: 19.138 | Diff:  0.838\n",
      "27  Real: 18.300 | Pred: 18.117 | Diff:  0.183\n",
      "28  Real: 20.600 | Pred: 17.774 | Diff:  2.826\n",
      "29  Real: 16.100 | Pred: 18.204 | Diff:  2.104\n",
      "30  Real: 21.100 | Pred: 17.329 | Diff:  3.771\n",
      "31  Real: 22.800 | Pred: 20.647 | Diff:  2.153\n",
      "32  Real: 24.400 | Pred: 21.973 | Diff:  2.427\n",
      "33  Real: 25.000 | Pred: 23.320 | Diff:  1.680\n",
      "34  Real: 27.200 | Pred: 23.103 | Diff:  4.097\n",
      "35  Real: 26.700 | Pred: 25.406 | Diff:  1.294\n",
      "36  Real: 20.600 | Pred: 24.628 | Diff:  4.028\n",
      "37  Real: 16.700 | Pred: 20.364 | Diff:  3.664\n",
      "38  Real: 17.800 | Pred: 17.324 | Diff:  0.476\n",
      "39  Real: 20.000 | Pred: 17.491 | Diff:  2.509\n",
      "40  Real: 18.300 | Pred: 18.295 | Diff:  0.005\n",
      "41  Real: 19.400 | Pred: 19.250 | Diff:  0.150\n",
      "42  Real: 21.100 | Pred: 19.910 | Diff:  1.190\n",
      "43  Real: 22.800 | Pred: 22.006 | Diff:  0.794\n",
      "44  Real: 18.300 | Pred: 21.680 | Diff:  3.380\n",
      "45  Real: 18.900 | Pred: 16.524 | Diff:  2.376\n",
      "46  Real: 20.600 | Pred: 16.893 | Diff:  3.707\n",
      "47  Real: 22.200 | Pred: 18.042 | Diff:  4.158\n",
      "48  Real: 15.600 | Pred: 19.541 | Diff:  3.941\n",
      "49  Real: 18.300 | Pred: 17.645 | Diff:  0.655\n",
      "50  Real: 17.800 | Pred: 17.740 | Diff:  0.060\n",
      "51  Real: 21.100 | Pred: 16.215 | Diff:  4.885\n",
      "52  Real: 21.700 | Pred: 19.241 | Diff:  2.459\n",
      "53  Real: 18.300 | Pred: 18.937 | Diff:  0.637\n",
      "54  Real: 21.100 | Pred: 16.632 | Diff:  4.468\n",
      "55  Real: 15.600 | Pred: 17.785 | Diff:  2.185\n",
      "56  Real: 19.400 | Pred: 15.463 | Diff:  3.937\n",
      "57  Real: 22.800 | Pred: 19.222 | Diff:  3.578\n",
      "58  Real: 23.300 | Pred: 20.306 | Diff:  2.994\n",
      "59  Real: 18.300 | Pred: 20.019 | Diff:  1.719\n",
      "60  Real: 16.100 | Pred: 17.141 | Diff:  1.041\n",
      "61  Real: 18.900 | Pred: 18.430 | Diff:  0.470\n",
      "62  Real: 19.400 | Pred: 18.803 | Diff:  0.597\n",
      "63  Real: 21.100 | Pred: 19.299 | Diff:  1.801\n",
      "64  Real: 17.800 | Pred: 21.078 | Diff:  3.278\n",
      "65  Real: 18.300 | Pred: 17.800 | Diff:  0.500\n",
      "66  Real: 16.700 | Pred: 17.995 | Diff:  1.295\n",
      "67  Real: 15.000 | Pred: 16.396 | Diff:  1.396\n",
      "68  Real: 21.100 | Pred: 15.331 | Diff:  5.769\n",
      "69  Real: 20.000 | Pred: 18.135 | Diff:  1.865\n",
      "70  Real: 19.400 | Pred: 17.922 | Diff:  1.478\n",
      "71  Real: 15.000 | Pred: 18.793 | Diff:  3.793\n",
      "72  Real: 17.200 | Pred: 17.280 | Diff:  0.080\n",
      "73  Real: 17.800 | Pred: 18.127 | Diff:  0.327\n",
      "74  Real: 16.100 | Pred: 16.792 | Diff:  0.692\n",
      "75  Real: 16.100 | Pred: 14.488 | Diff:  1.612\n",
      "76  Real: 12.800 | Pred: 15.067 | Diff:  2.267\n",
      "77  Real: 15.000 | Pred: 12.321 | Diff:  2.679\n",
      "78  Real: 19.400 | Pred: 14.515 | Diff:  4.885\n",
      "79  Real: 12.200 | Pred: 17.875 | Diff:  5.675\n",
      "80  Real: 16.100 | Pred: 14.383 | Diff:  1.717\n",
      "81  Real: 13.900 | Pred: 14.270 | Diff:  0.370\n",
      "82  Real: 15.000 | Pred: 15.754 | Diff:  0.754\n",
      "83  Real: 17.200 | Pred: 17.090 | Diff:  0.110\n",
      "84  Real: 15.600 | Pred: 18.705 | Diff:  3.105\n",
      "85  Real: 12.200 | Pred: 15.849 | Diff:  3.649\n",
      "86  Real: 11.100 | Pred: 12.567 | Diff:  1.467\n",
      "87  Real: 10.600 | Pred: 11.944 | Diff:  1.344\n",
      "88  Real: 10.000 | Pred: 10.553 | Diff:  0.553\n",
      "89  Real: 11.700 | Pred: 10.417 | Diff:  1.283\n",
      "90  Real: 15.600 | Pred: 12.604 | Diff:  2.996\n",
      "91  Real: 12.200 | Pred: 14.458 | Diff:  2.258\n",
      "92  Real: 11.100 | Pred: 13.954 | Diff:  2.854\n",
      "93  Real: 10.000 | Pred: 12.217 | Diff:  2.217\n",
      "94  Real: 11.100 | Pred: 10.331 | Diff:  0.769\n",
      "95  Real: 11.100 | Pred: 10.697 | Diff:  0.403\n",
      "96  Real: 11.100 | Pred: 11.465 | Diff:  0.365\n",
      "97  Real: 13.300 | Pred: 11.586 | Diff:  1.714\n",
      "98  Real:  9.400 | Pred: 13.158 | Diff:  3.758\n",
      "99  Real:  8.900 | Pred: 11.622 | Diff:  2.722\n",
      "100 Real:  8.900 | Pred:  9.770 | Diff:  0.870\n",
      "101 Real: 13.300 | Pred:  9.407 | Diff:  3.893\n",
      "102 Real:  8.900 | Pred: 13.202 | Diff:  4.302\n",
      "103 Real:  8.900 | Pred:  9.233 | Diff:  0.333\n",
      "104 Real:  8.300 | Pred:  9.236 | Diff:  0.936\n",
      "105 Real:  8.900 | Pred:  8.353 | Diff:  0.547\n",
      "106 Real: 10.000 | Pred: 11.032 | Diff:  1.032\n",
      "107 Real:  6.700 | Pred:  8.965 | Diff:  2.265\n",
      "108 Real:  6.700 | Pred:  8.056 | Diff:  1.356\n",
      "109 Real:  7.200 | Pred:  8.267 | Diff:  1.067\n",
      "110 Real:  9.400 | Pred: 11.059 | Diff:  1.659\n",
      "111 Real:  9.400 | Pred: 11.972 | Diff:  2.572\n",
      "112 Real:  7.200 | Pred: 11.769 | Diff:  4.569\n",
      "113 Real:  1.700 | Pred: 10.330 | Diff:  8.630\n",
      "114 Real:  5.600 | Pred:  4.402 | Diff:  1.198\n",
      "115 Real: 10.000 | Pred:  9.644 | Diff:  0.356\n",
      "116 Real: 10.600 | Pred: 10.274 | Diff:  0.326\n",
      "117 Real: 15.600 | Pred: 10.682 | Diff:  4.918\n",
      "118 Real: 10.600 | Pred: 15.693 | Diff:  5.093\n",
      "119 Real: 10.000 | Pred: 11.220 | Diff:  1.220\n",
      "120 Real: 12.800 | Pred: 10.759 | Diff:  2.041\n",
      "121 Real: 11.100 | Pred: 13.641 | Diff:  2.541\n",
      "122 Real: 15.600 | Pred: 11.290 | Diff:  4.310\n",
      "123 Real: 12.200 | Pred: 15.000 | Diff:  2.800\n",
      "124 Real: 11.700 | Pred: 13.608 | Diff:  1.908\n",
      "125 Real:  9.400 | Pred: 12.633 | Diff:  3.233\n",
      "126 Real:  8.900 | Pred:  9.754 | Diff:  0.854\n",
      "127 Real:  7.800 | Pred:  9.881 | Diff:  2.081\n",
      "128 Real:  7.800 | Pred:  9.876 | Diff:  2.076\n",
      "129 Real:  6.700 | Pred:  9.112 | Diff:  2.412\n",
      "130 Real:  6.100 | Pred:  8.008 | Diff:  1.908\n",
      "131 Real:  6.700 | Pred:  7.445 | Diff:  0.745\n",
      "132 Real:  8.900 | Pred:  8.919 | Diff:  0.019\n",
      "133 Real:  8.300 | Pred:  9.623 | Diff:  1.323\n",
      "134 Real:  7.800 | Pred:  8.001 | Diff:  0.201\n",
      "135 Real:  5.600 | Pred:  9.579 | Diff:  3.979\n",
      "136 Real:  7.800 | Pred:  8.433 | Diff:  0.633\n",
      "137 Real:  5.000 | Pred:  8.921 | Diff:  3.921\n",
      "138 Real:  5.600 | Pred:  8.756 | Diff:  3.156\n",
      "139 Real:  5.000 | Pred:  7.635 | Diff:  2.635\n",
      "140 Real:  4.400 | Pred:  6.701 | Diff:  2.301\n",
      "141 Real:  4.400 | Pred:  8.066 | Diff:  3.666\n",
      "142 Real:  5.000 | Pred:  6.584 | Diff:  1.584\n",
      "143 Real:  7.200 | Pred:  6.699 | Diff:  0.501\n",
      "144 Real:  5.600 | Pred:  7.060 | Diff:  1.460\n",
      "145 Real:  5.600 | Pred:  9.465 | Diff:  3.865\n"
     ]
    }
   ],
   "source": [
    "for idx in range(len(predictions)):\n",
    "    print(f'{idx:<3} Real: {(a:=y_test[idx]):>6.3f} | '\n",
    "          f'Pred: {(b:=predictions.detach().numpy()[idx][0]):>6.3f} | '\n",
    "          f'Diff: {abs(a - b):>6.3f}')"
   ],
   "metadata": {
    "collapsed": false
   }
  }
 ],
 "metadata": {
  "kernelspec": {
   "display_name": "Python 3",
   "language": "python",
   "name": "python3"
  },
  "language_info": {
   "codemirror_mode": {
    "name": "ipython",
    "version": 2
   },
   "file_extension": ".py",
   "mimetype": "text/x-python",
   "name": "python",
   "nbconvert_exporter": "python",
   "pygments_lexer": "ipython2",
   "version": "2.7.6"
  }
 },
 "nbformat": 4,
 "nbformat_minor": 0
}
