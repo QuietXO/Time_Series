{
 "cells": [
  {
   "cell_type": "markdown",
   "source": [
    "#### __Import Libraries__"
   ],
   "metadata": {
    "collapsed": false
   }
  },
  {
   "cell_type": "code",
   "execution_count": 1,
   "metadata": {
    "collapsed": true
   },
   "outputs": [],
   "source": [
    "import numpy as np\n",
    "import pandas as pd\n",
    "from sklearn.datasets import load_wine\n",
    "from sklearn.model_selection import train_test_split\n",
    "from sklearn.preprocessing import StandardScaler\n",
    "import matplotlib.pyplot as plt\n",
    "from sklearn.metrics import confusion_matrix\n",
    "import seaborn as sns"
   ]
  },
  {
   "cell_type": "markdown",
   "source": [
    "#### __Neural Net Model__"
   ],
   "metadata": {
    "collapsed": false
   }
  },
  {
   "cell_type": "code",
   "execution_count": 2,
   "outputs": [],
   "source": [
    "class Neural_Network():\n",
    "    def __init__(self, learning_rate, X_train, y_train):\n",
    "\n",
    "        self.learning_rate = learning_rate\n",
    "\n",
    "        self.layer_size = []\n",
    "        self.layer_type = []\n",
    "        self.num_of_layers = -1\n",
    "        self.act_fct_type = []\n",
    "\n",
    "        self.input_size = len(X_train[0])\n",
    "        self.output_size = len(y_train[0])\n",
    "        self.X_train = X_train\n",
    "        self.y_train = y_train\n",
    "        self.N = len(y_train)\n",
    "\n",
    "        self.Wdict = {}\n",
    "        self.Zdict = {}\n",
    "        self.Adict = {}\n",
    "        self.dWdict = {}\n",
    "\n",
    "    def activation_forward(self, x, type):\n",
    "        if type == \"sigmoid\":\n",
    "            return 1 / (1 + np.exp(-x))\n",
    "        elif type == \"ReLU\":\n",
    "            return np.maximum(0, x)\n",
    "        elif type == \"tanh\":\n",
    "            return (np.exp(x)-np.exp(-x))/(np.exp(x)+np.exp(-x))\n",
    "        elif type == \"softmax\":\n",
    "            return np.exp(x) / np.sum(np.exp(x))\n",
    "\n",
    "\n",
    "    def actiovation_backward(self, x, type):\n",
    "        if type == \"sigmoid\":\n",
    "            return x * (1 - x)\n",
    "        elif type == \"ReLU\":\n",
    "            return np.where(x > 0, 1.0, 0.0)\n",
    "        elif type == \"tanh\":\n",
    "            return 1-x**2\n",
    "\n",
    "\n",
    "    def mean_squared_error(self, pred, act):\n",
    "        return np.mean(np.square(act - pred))\n",
    "\n",
    "    def accuracy(self, pred, act):\n",
    "        acc = pred.argmax(axis=1) == act.argmax(axis=1)\n",
    "        return acc.mean()\n",
    "\n",
    "    def add_layer(self, type, act_fct, size=None):\n",
    "        np.random.seed(10)\n",
    "        self.act_fct_type.append(act_fct)\n",
    "        self.layer_type.append(type)\n",
    "\n",
    "        if type == \"input\":\n",
    "            self.layer_size.append(size)\n",
    "            self.num_of_layers += 1\n",
    "            self.Wdict[self.num_of_layers] = np.random.normal(scale=0.5, size=(self.input_size, size))\n",
    "\n",
    "        elif type == \"hidden\":\n",
    "            self.num_of_layers += 1\n",
    "            self.Wdict[self.num_of_layers] = np.random.normal(scale=0.5,\n",
    "                                                              size=(self.layer_size[len(self.layer_size) - 1], size))\n",
    "            self.layer_size.append(size)\n",
    "\n",
    "        elif type == \"output\":\n",
    "            self.num_of_layers += 1\n",
    "            self.Wdict[self.num_of_layers] = np.random.normal(scale=0.5,\n",
    "                                                              size=(self.layer_size[len(self.layer_size) - 1],\n",
    "                                                                    self.output_size))\n",
    "            self.layer_size.append(self.output_size)\n",
    "\n",
    "    def forward_pass(self, X_data):\n",
    "        for i in range(self.num_of_layers + 1):\n",
    "            if self.layer_type[i] == \"input\":\n",
    "                self.Zdict[i] = np.dot(X_data, self.Wdict[i])\n",
    "                self.Adict[i] = self.activation_forward(self.Zdict[i], self.act_fct_type[i])\n",
    "\n",
    "            elif self.layer_type[i] == \"hidden\" or self.layer_type[i] == \"output\":\n",
    "                self.Zdict[i] = np.dot(self.Adict[i - 1], self.Wdict[i])\n",
    "                self.Adict[i] = self.activation_forward(self.Zdict[i], self.act_fct_type[i])\n",
    "\n",
    "        return self.Adict[self.num_of_layers]\n",
    "\n",
    "    def backward_pass(self):\n",
    "        for i in range(self.num_of_layers, -1, -1):\n",
    "            if self.layer_type[i] == \"output\":\n",
    "                E = self.Adict[i] - self.y_train\n",
    "                self.dWdict[i] = E * self.actiovation_backward(self.Adict[i], self.act_fct_type[i])\n",
    "                self.Wdict[i] = self.Wdict[i] - self.learning_rate * (\n",
    "                        np.dot(self.Adict[i - 1].T, self.dWdict[i]) / self.N)\n",
    "\n",
    "            elif self.layer_type[i] == \"hidden\" or self.layer_type[i] == \"input\":\n",
    "                E = np.dot(self.dWdict[i + 1], self.Wdict[i + 1].T)\n",
    "                self.dWdict[i] = E * self.actiovation_backward(self.Adict[i], self.act_fct_type[i])\n",
    "                if self.layer_type[i] == \"hidden\":\n",
    "                    self.Wdict[i] = self.Wdict[i] - self.learning_rate * (\n",
    "                            np.dot(self.Adict[i - 1].T, self.dWdict[i]) / self.N)\n",
    "                else:\n",
    "                    self.Wdict[i] = self.Wdict[i] - self.learning_rate * (\n",
    "                            np.dot(self.X_train.T, self.dWdict[i]) / self.N)\n",
    "\n",
    "    def train(self, X_data):\n",
    "        self.forward_pass(X_data)\n",
    "        self.backward_pass()\n",
    "\n",
    "    def plot_error_accuracy(self, err_values, acc_values):\n",
    "        plt.plot(np.arange(len(err_values)), err_values, label=\"error\")\n",
    "        plt.plot(np.arange(len(acc_values)), acc_values, label=\"accuracy\")\n",
    "        plt.title('Error & Accuracy over Time')\n",
    "        plt.xlabel('Epoch')\n",
    "        plt.legend()\n",
    "        plt.show()"
   ],
   "metadata": {
    "collapsed": false
   }
  },
  {
   "cell_type": "markdown",
   "source": [
    "#### __Model Training__"
   ],
   "metadata": {
    "collapsed": false
   }
  },
  {
   "cell_type": "code",
   "execution_count": 3,
   "outputs": [
    {
     "name": "stdout",
     "output_type": "stream",
     "text": [
      "#0\n",
      "Loss: 0.37621514450966603\n",
      "\n",
      "#1000\n",
      "Loss: 0.06136903477326052\n",
      "\n",
      "#2000\n",
      "Loss: 0.050426937543116855\n",
      "\n",
      "#3000\n",
      "Loss: 0.04463625657074571\n",
      "\n",
      "#4000\n",
      "Loss: 0.04051423834207194\n",
      "\n",
      "#5000\n",
      "Loss: 0.03725333436950859\n",
      "\n",
      "#6000\n",
      "Loss: 0.03453873866900778\n",
      "\n",
      "#7000\n",
      "Loss: 0.032266071560885665\n",
      "\n",
      "#8000\n",
      "Loss: 0.030350640754143062\n",
      "\n",
      "#9000\n",
      "Loss: 0.028726529177380524\n",
      "\n",
      "#10000\n",
      "Accuracy_Training: 1.0\n",
      "Accuracy: 1.0\n"
     ]
    },
    {
     "data": {
      "text/plain": "<Figure size 640x480 with 1 Axes>",
      "image/png": "[encoded data removed]"
     },
     "metadata": {},
     "output_type": "display_data"
    }
   ],
   "source": [
    "data = load_wine()\n",
    "X = data.data\n",
    "y = data.target\n",
    "y = pd.get_dummies(y).values\n",
    "scaler = StandardScaler()\n",
    "X = scaler.fit_transform(X)\n",
    "X_train, X_test, y_train, y_test = train_test_split(X, y, test_size=0.2, random_state=69)\n",
    "iterations = 10_000\n",
    "err_values = []\n",
    "acc_values = []\n",
    "\n",
    "NN = Neural_Network(0.01, X_train, y_train)\n",
    "NN.add_layer(\"input\", \"tanh\", 13)\n",
    "NN.add_layer(\"hidden\", \"sigmoid\", 16)\n",
    "NN.add_layer(\"output\", \"tanh\", 3)\n",
    "\n",
    "for itr in range(iterations):\n",
    "    NN.train(X_train)\n",
    "    err_values.append(NN.mean_squared_error(NN.forward_pass(X_train), y_train))\n",
    "    acc_values.append(NN.accuracy(NN.forward_pass(X_train), y_train))\n",
    "\n",
    "    if itr % 1000 == 0:\n",
    "        print(\"#\" + str(itr))\n",
    "        print(\"Loss: \" + str(NN.mean_squared_error(NN.forward_pass(X_train), y_train)) + \"\\n\")\n",
    "\n",
    "print(\"#\" + str(iterations))\n",
    "print(\"Accuracy_Training: \" + str(NN.accuracy(NN.forward_pass(X_train), y_train)))\n",
    "\n",
    "print(\"Accuracy: \" + str(NN.accuracy(NN.forward_pass(X_test), y_test)))\n",
    "\n",
    "NN.plot_error_accuracy(err_values, acc_values)"
   ],
   "metadata": {
    "collapsed": false
   }
  },
  {
   "cell_type": "markdown",
   "source": [
    "#### __Confusion Matrix__"
   ],
   "metadata": {
    "collapsed": false
   }
  },
  {
   "cell_type": "code",
   "execution_count": 4,
   "outputs": [
    {
     "data": {
      "text/plain": "<Figure size 1000x700 with 2 Axes>",
      "image/png": "[encoded data removed]"
     },
     "metadata": {},
     "output_type": "display_data"
    }
   ],
   "source": [
    "pred = NN.forward_pass(X_test)\n",
    "matrix_pred = list()\n",
    "matrix_true = list()\n",
    "for idx in range(len(pred)):\n",
    "    matrix_pred.append(np.argmax(pred[idx]))\n",
    "    matrix_true.append(np.argmax(y_test[idx]))\n",
    "\n",
    "cm = confusion_matrix(matrix_true, matrix_pred)\n",
    "plt.figure(figsize=(10, 7))\n",
    "sns.heatmap(cm, annot=True, cmap='Blues')\n",
    "plt.xlabel('Predicted')\n",
    "plt.ylabel('Actual')\n",
    "plt.show()"
   ],
   "metadata": {
    "collapsed": false
   }
  }
 ],
 "metadata": {
  "kernelspec": {
   "display_name": "Python 3",
   "language": "python",
   "name": "python3"
  },
  "language_info": {
   "codemirror_mode": {
    "name": "ipython",
    "version": 2
   },
   "file_extension": ".py",
   "mimetype": "text/x-python",
   "name": "python",
   "nbconvert_exporter": "python",
   "pygments_lexer": "ipython2",
   "version": "2.7.6"
  }
 },
 "nbformat": 4,
 "nbformat_minor": 0
}
